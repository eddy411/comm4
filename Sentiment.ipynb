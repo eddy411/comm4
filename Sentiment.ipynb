{
  "nbformat": 4,
  "nbformat_minor": 0,
  "metadata": {
    "colab": {
      "provenance": [],
      "authorship_tag": "ABX9TyM2Z31T0YfPFlTw6dS8nE6g",
      "include_colab_link": true
    },
    "kernelspec": {
      "name": "python3",
      "display_name": "Python 3"
    },
    "language_info": {
      "name": "python"
    }
  },
  "cells": [
    {
      "cell_type": "markdown",
      "metadata": {
        "id": "view-in-github",
        "colab_type": "text"
      },
      "source": [
        "<a href=\"https://colab.research.google.com/github/eddy411/comm4/blob/main/Sentiment.ipynb\" target=\"_parent\"><img src=\"https://colab.research.google.com/assets/colab-badge.svg\" alt=\"Open In Colab\"/></a>"
      ]
    },
    {
      "cell_type": "code",
      "source": [
        "# 💬 Sentiment Analyzer\n",
        "from sklearn.model_selection import train_test_split\n",
        "from sklearn.feature_extraction.text import CountVectorizer\n",
        "from sklearn.linear_model import LogisticRegression\n",
        "from sklearn.metrics import accuracy_score\n",
        "import pandas as pd\n",
        "\n",
        "# 1️⃣ Load dataset\n",
        "url = \"https://raw.githubusercontent.com/dD2405/Twitter_Sentiment_Analysis/master/train.csv\"\n",
        "data = pd.read_csv(url).dropna()\n",
        "X = data[\"tweet\"]\n",
        "y = data[\"label\"]\n",
        "\n",
        "# 2️⃣ Text → numbers\n",
        "vectorizer = CountVectorizer(max_features=5000)\n",
        "X_vec = vectorizer.fit_transform(X)\n",
        "\n",
        "# 3️⃣ Train/test split\n",
        "X_train, X_test, y_train, y_test = train_test_split(X_vec, y, test_size=0.2, random_state=42)\n",
        "\n",
        "# 4️⃣ Train model\n",
        "model = LogisticRegression(max_iter=1000)\n",
        "model.fit(X_train, y_train)\n",
        "\n",
        "print(\"✅ Accuracy:\", accuracy_score(y_test, model.predict(X_test)))\n",
        "\n",
        "# 5️⃣ Try custom text\n",
        "sample = [\"I love this product!\", \"This is the worst thing ever.\"]\n",
        "pred = model.predict(vectorizer.transform(sample))\n",
        "for txt, p in zip(sample, pred):\n",
        "    print(f\"Text: {txt}\\nPrediction: {'Positive 😊' if p==1 else 'Negative 😡'}\\n\")"
      ],
      "metadata": {
        "colab": {
          "base_uri": "https://localhost:8080/"
        },
        "id": "rZmNVYYouASe",
        "outputId": "5ac5890e-fa59-4f0d-8d93-0e94212b2969"
      },
      "execution_count": 8,
      "outputs": [
        {
          "output_type": "stream",
          "name": "stdout",
          "text": [
            "✅ Accuracy: 0.9557328327858595\n",
            "Text: I love this product!\n",
            "Prediction: Negative 😡\n",
            "\n",
            "Text: This is the worst thing ever.\n",
            "Prediction: Negative 😡\n",
            "\n"
          ]
        }
      ]
    }
  ]
}